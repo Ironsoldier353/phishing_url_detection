{
  "nbformat": 4,
  "nbformat_minor": 0,
  "metadata": {
    "colab": {
      "provenance": [],
      "authorship_tag": "ABX9TyM0yzJwweH5q8CooxpDFLss",
      "include_colab_link": true
    },
    "kernelspec": {
      "name": "python3",
      "display_name": "Python 3"
    },
    "language_info": {
      "name": "python"
    }
  },
  "cells": [
    {
      "cell_type": "markdown",
      "metadata": {
        "id": "view-in-github",
        "colab_type": "text"
      },
      "source": [
        "<a href=\"https://colab.research.google.com/github/Ironsoldier353/phishing_url_detection/blob/main/phishing_URL_detection.ipynb\" target=\"_parent\"><img src=\"https://colab.research.google.com/assets/colab-badge.svg\" alt=\"Open In Colab\"/></a>"
      ]
    },
    {
      "cell_type": "code",
      "source": [
        "from google.colab import files\n",
        "uploaded = files.upload()\n"
      ],
      "metadata": {
        "colab": {
          "base_uri": "https://localhost:8080/",
          "height": 73
        },
        "id": "a5mJoF5I7z7R",
        "outputId": "393a3d1f-d025-4efa-e3dd-026e7c6a75fa"
      },
      "execution_count": 1,
      "outputs": [
        {
          "output_type": "display_data",
          "data": {
            "text/plain": [
              "<IPython.core.display.HTML object>"
            ],
            "text/html": [
              "\n",
              "     <input type=\"file\" id=\"files-770f56bc-3dc3-4007-bca3-2cc96e6281e7\" name=\"files[]\" multiple disabled\n",
              "        style=\"border:none\" />\n",
              "     <output id=\"result-770f56bc-3dc3-4007-bca3-2cc96e6281e7\">\n",
              "      Upload widget is only available when the cell has been executed in the\n",
              "      current browser session. Please rerun this cell to enable.\n",
              "      </output>\n",
              "      <script>// Copyright 2017 Google LLC\n",
              "//\n",
              "// Licensed under the Apache License, Version 2.0 (the \"License\");\n",
              "// you may not use this file except in compliance with the License.\n",
              "// You may obtain a copy of the License at\n",
              "//\n",
              "//      http://www.apache.org/licenses/LICENSE-2.0\n",
              "//\n",
              "// Unless required by applicable law or agreed to in writing, software\n",
              "// distributed under the License is distributed on an \"AS IS\" BASIS,\n",
              "// WITHOUT WARRANTIES OR CONDITIONS OF ANY KIND, either express or implied.\n",
              "// See the License for the specific language governing permissions and\n",
              "// limitations under the License.\n",
              "\n",
              "/**\n",
              " * @fileoverview Helpers for google.colab Python module.\n",
              " */\n",
              "(function(scope) {\n",
              "function span(text, styleAttributes = {}) {\n",
              "  const element = document.createElement('span');\n",
              "  element.textContent = text;\n",
              "  for (const key of Object.keys(styleAttributes)) {\n",
              "    element.style[key] = styleAttributes[key];\n",
              "  }\n",
              "  return element;\n",
              "}\n",
              "\n",
              "// Max number of bytes which will be uploaded at a time.\n",
              "const MAX_PAYLOAD_SIZE = 100 * 1024;\n",
              "\n",
              "function _uploadFiles(inputId, outputId) {\n",
              "  const steps = uploadFilesStep(inputId, outputId);\n",
              "  const outputElement = document.getElementById(outputId);\n",
              "  // Cache steps on the outputElement to make it available for the next call\n",
              "  // to uploadFilesContinue from Python.\n",
              "  outputElement.steps = steps;\n",
              "\n",
              "  return _uploadFilesContinue(outputId);\n",
              "}\n",
              "\n",
              "// This is roughly an async generator (not supported in the browser yet),\n",
              "// where there are multiple asynchronous steps and the Python side is going\n",
              "// to poll for completion of each step.\n",
              "// This uses a Promise to block the python side on completion of each step,\n",
              "// then passes the result of the previous step as the input to the next step.\n",
              "function _uploadFilesContinue(outputId) {\n",
              "  const outputElement = document.getElementById(outputId);\n",
              "  const steps = outputElement.steps;\n",
              "\n",
              "  const next = steps.next(outputElement.lastPromiseValue);\n",
              "  return Promise.resolve(next.value.promise).then((value) => {\n",
              "    // Cache the last promise value to make it available to the next\n",
              "    // step of the generator.\n",
              "    outputElement.lastPromiseValue = value;\n",
              "    return next.value.response;\n",
              "  });\n",
              "}\n",
              "\n",
              "/**\n",
              " * Generator function which is called between each async step of the upload\n",
              " * process.\n",
              " * @param {string} inputId Element ID of the input file picker element.\n",
              " * @param {string} outputId Element ID of the output display.\n",
              " * @return {!Iterable<!Object>} Iterable of next steps.\n",
              " */\n",
              "function* uploadFilesStep(inputId, outputId) {\n",
              "  const inputElement = document.getElementById(inputId);\n",
              "  inputElement.disabled = false;\n",
              "\n",
              "  const outputElement = document.getElementById(outputId);\n",
              "  outputElement.innerHTML = '';\n",
              "\n",
              "  const pickedPromise = new Promise((resolve) => {\n",
              "    inputElement.addEventListener('change', (e) => {\n",
              "      resolve(e.target.files);\n",
              "    });\n",
              "  });\n",
              "\n",
              "  const cancel = document.createElement('button');\n",
              "  inputElement.parentElement.appendChild(cancel);\n",
              "  cancel.textContent = 'Cancel upload';\n",
              "  const cancelPromise = new Promise((resolve) => {\n",
              "    cancel.onclick = () => {\n",
              "      resolve(null);\n",
              "    };\n",
              "  });\n",
              "\n",
              "  // Wait for the user to pick the files.\n",
              "  const files = yield {\n",
              "    promise: Promise.race([pickedPromise, cancelPromise]),\n",
              "    response: {\n",
              "      action: 'starting',\n",
              "    }\n",
              "  };\n",
              "\n",
              "  cancel.remove();\n",
              "\n",
              "  // Disable the input element since further picks are not allowed.\n",
              "  inputElement.disabled = true;\n",
              "\n",
              "  if (!files) {\n",
              "    return {\n",
              "      response: {\n",
              "        action: 'complete',\n",
              "      }\n",
              "    };\n",
              "  }\n",
              "\n",
              "  for (const file of files) {\n",
              "    const li = document.createElement('li');\n",
              "    li.append(span(file.name, {fontWeight: 'bold'}));\n",
              "    li.append(span(\n",
              "        `(${file.type || 'n/a'}) - ${file.size} bytes, ` +\n",
              "        `last modified: ${\n",
              "            file.lastModifiedDate ? file.lastModifiedDate.toLocaleDateString() :\n",
              "                                    'n/a'} - `));\n",
              "    const percent = span('0% done');\n",
              "    li.appendChild(percent);\n",
              "\n",
              "    outputElement.appendChild(li);\n",
              "\n",
              "    const fileDataPromise = new Promise((resolve) => {\n",
              "      const reader = new FileReader();\n",
              "      reader.onload = (e) => {\n",
              "        resolve(e.target.result);\n",
              "      };\n",
              "      reader.readAsArrayBuffer(file);\n",
              "    });\n",
              "    // Wait for the data to be ready.\n",
              "    let fileData = yield {\n",
              "      promise: fileDataPromise,\n",
              "      response: {\n",
              "        action: 'continue',\n",
              "      }\n",
              "    };\n",
              "\n",
              "    // Use a chunked sending to avoid message size limits. See b/62115660.\n",
              "    let position = 0;\n",
              "    do {\n",
              "      const length = Math.min(fileData.byteLength - position, MAX_PAYLOAD_SIZE);\n",
              "      const chunk = new Uint8Array(fileData, position, length);\n",
              "      position += length;\n",
              "\n",
              "      const base64 = btoa(String.fromCharCode.apply(null, chunk));\n",
              "      yield {\n",
              "        response: {\n",
              "          action: 'append',\n",
              "          file: file.name,\n",
              "          data: base64,\n",
              "        },\n",
              "      };\n",
              "\n",
              "      let percentDone = fileData.byteLength === 0 ?\n",
              "          100 :\n",
              "          Math.round((position / fileData.byteLength) * 100);\n",
              "      percent.textContent = `${percentDone}% done`;\n",
              "\n",
              "    } while (position < fileData.byteLength);\n",
              "  }\n",
              "\n",
              "  // All done.\n",
              "  yield {\n",
              "    response: {\n",
              "      action: 'complete',\n",
              "    }\n",
              "  };\n",
              "}\n",
              "\n",
              "scope.google = scope.google || {};\n",
              "scope.google.colab = scope.google.colab || {};\n",
              "scope.google.colab._files = {\n",
              "  _uploadFiles,\n",
              "  _uploadFilesContinue,\n",
              "};\n",
              "})(self);\n",
              "</script> "
            ]
          },
          "metadata": {}
        },
        {
          "output_type": "stream",
          "name": "stdout",
          "text": [
            "Saving kaggle.json to kaggle.json\n"
          ]
        }
      ]
    },
    {
      "cell_type": "code",
      "source": [
        "!mkdir -p ~/.kaggle\n",
        "!cp kaggle.json ~/.kaggle/\n",
        "!chmod 600 ~/.kaggle/kaggle.json\n"
      ],
      "metadata": {
        "id": "ntif0TRB8HxQ"
      },
      "execution_count": 2,
      "outputs": []
    },
    {
      "cell_type": "code",
      "source": [
        "!kaggle datasets download -d sergioagudelo/phishing-url-detection\n"
      ],
      "metadata": {
        "colab": {
          "base_uri": "https://localhost:8080/"
        },
        "id": "YhvpooA48TFK",
        "outputId": "cb55642b-6fa1-4adb-e1af-40b3338a3489"
      },
      "execution_count": 3,
      "outputs": [
        {
          "output_type": "stream",
          "name": "stdout",
          "text": [
            "Dataset URL: https://www.kaggle.com/datasets/sergioagudelo/phishing-url-detection\n",
            "License(s): MIT\n",
            "Downloading phishing-url-detection.zip to /content\n",
            "100% 375M/376M [00:02<00:00, 190MB/s]\n",
            "100% 376M/376M [00:02<00:00, 138MB/s]\n"
          ]
        }
      ]
    },
    {
      "cell_type": "code",
      "source": [
        "!unzip phishing-url-detection.zip\n"
      ],
      "metadata": {
        "colab": {
          "base_uri": "https://localhost:8080/"
        },
        "id": "Wx3WeWgD8ZHM",
        "outputId": "6f0f33e3-32ae-4550-87da-c513f456a6eb"
      },
      "execution_count": 4,
      "outputs": [
        {
          "output_type": "stream",
          "name": "stdout",
          "text": [
            "Archive:  phishing-url-detection.zip\n",
            "  inflating: out.csv                 \n"
          ]
        }
      ]
    },
    {
      "cell_type": "code",
      "source": [
        "import pandas as pd\n",
        "\n",
        "# Load the dataset\n",
        "data = pd.read_csv('out.csv')\n",
        "\n",
        "print(data.head())\n"
      ],
      "metadata": {
        "colab": {
          "base_uri": "https://localhost:8080/"
        },
        "id": "qcfWnaUX8ehA",
        "outputId": "ebf6eef9-3818-43e1-9a63-bad5610ef472"
      },
      "execution_count": 6,
      "outputs": [
        {
          "output_type": "stream",
          "name": "stdout",
          "text": [
            "                                             url          source       label  \\\n",
            "0  apaceast.cloudguest.central.arubanetworks.com  Cisco-Umbrella  legitimate   \n",
            "1                              quintadonoval.com        Majestic  legitimate   \n",
            "2                               nomadfactory.com        Majestic  legitimate   \n",
            "3                               tvarenasport.com        Majestic  legitimate   \n",
            "4                    widget.cluster.groovehq.com  Cisco-Umbrella  legitimate   \n",
            "\n",
            "   url_length  starts_with_ip  url_entropy  has_punycode  digit_letter_ratio  \\\n",
            "0          45           False     3.924535         False                 0.0   \n",
            "1          17           False     3.572469         False                 0.0   \n",
            "2          16           False     3.327820         False                 0.0   \n",
            "3          16           False     3.500000         False                 0.0   \n",
            "4          27           False     3.930270         False                 0.0   \n",
            "\n",
            "   dot_count  at_count  dash_count  tld_count  domain_has_digits  \\\n",
            "0          4         0           0          0              False   \n",
            "1          1         0           0          0              False   \n",
            "2          1         0           0          0              False   \n",
            "3          1         0           0          0              False   \n",
            "4          3         0           0          0              False   \n",
            "\n",
            "   subdomain_count  nan_char_entropy  has_internal_links  \\\n",
            "0                3          0.310387               False   \n",
            "1                0          0.240439               False   \n",
            "2                0          0.250000               False   \n",
            "3                0          0.250000               False   \n",
            "4                2          0.352214               False   \n",
            "\n",
            "                                          whois_data  domain_age_days  \n",
            "0  {'domain_name': ['ARUBANETWORKS.COM', 'arubane...           8250.0  \n",
            "1  {'domain_name': ['QUINTADONOVAL.COM', 'quintad...          10106.0  \n",
            "2  {'domain_name': ['NOMADFACTORY.COM', 'nomadfac...           8111.0  \n",
            "3  {'domain_name': ['TVARENASPORT.COM', 'tvarenas...           5542.0  \n",
            "4  {'domain_name': 'GROOVEHQ.COM', 'registrar': '...           5098.0  \n"
          ]
        }
      ]
    },
    {
      "cell_type": "code",
      "source": [
        "print(\"Shape of the dataset:\", data.shape)\n",
        "\n",
        "print(\"Missing values:\\n\", data.isnull().sum())\n",
        "\n",
        "print(\"Summary statistics:\\n\", data.describe())\n"
      ],
      "metadata": {
        "colab": {
          "base_uri": "https://localhost:8080/"
        },
        "id": "Fxm6LmnH8tBO",
        "outputId": "42178254-1cdc-4321-af5e-c4a27b0a5878"
      },
      "execution_count": 7,
      "outputs": [
        {
          "output_type": "stream",
          "name": "stdout",
          "text": [
            "Shape of the dataset: (2500000, 18)\n",
            "Missing values:\n",
            " url                        1\n",
            "source                     0\n",
            "label                      0\n",
            "url_length                 0\n",
            "starts_with_ip             0\n",
            "url_entropy                0\n",
            "has_punycode               0\n",
            "digit_letter_ratio         1\n",
            "dot_count                  0\n",
            "at_count                   0\n",
            "dash_count                 0\n",
            "tld_count                  0\n",
            "domain_has_digits          0\n",
            "subdomain_count            0\n",
            "nan_char_entropy           0\n",
            "has_internal_links         0\n",
            "whois_data            545300\n",
            "domain_age_days       750689\n",
            "dtype: int64\n",
            "Summary statistics:\n",
            "          url_length   url_entropy  digit_letter_ratio     dot_count  \\\n",
            "count  2.500000e+06  2.500000e+06        2.499999e+06  2.500000e+06   \n",
            "mean   4.588017e+01  3.907981e+00        1.168567e-01  2.174582e+00   \n",
            "std    7.439959e+01  6.357209e-01        2.451448e-01  1.736380e+00   \n",
            "min    4.000000e+00 -0.000000e+00        0.000000e+00  0.000000e+00   \n",
            "25%    1.700000e+01  3.452820e+00        0.000000e+00  1.000000e+00   \n",
            "50%    2.900000e+01  3.911860e+00        0.000000e+00  2.000000e+00   \n",
            "75%    5.200000e+01  4.329283e+00        1.333333e-01  3.000000e+00   \n",
            "max    2.552300e+04  6.048781e+00        2.084000e+01  2.110000e+02   \n",
            "\n",
            "           at_count    dash_count     tld_count  subdomain_count  \\\n",
            "count  2.500000e+06  2.500000e+06  2.500000e+06     2.500000e+06   \n",
            "mean   1.141840e-02  7.410540e-01  3.923280e-02     7.777008e-01   \n",
            "std    1.407410e-01  1.662709e+00  3.905095e-01     1.103257e+00   \n",
            "min    0.000000e+00  0.000000e+00  0.000000e+00     0.000000e+00   \n",
            "25%    0.000000e+00  0.000000e+00  0.000000e+00     0.000000e+00   \n",
            "50%    0.000000e+00  0.000000e+00  0.000000e+00     1.000000e+00   \n",
            "75%    0.000000e+00  1.000000e+00  0.000000e+00     1.000000e+00   \n",
            "max    3.200000e+01  3.220000e+02  6.500000e+01     4.300000e+01   \n",
            "\n",
            "       nan_char_entropy  domain_age_days  \n",
            "count      2.500000e+06     1.749311e+06  \n",
            "mean       4.651602e-01     4.863090e+03  \n",
            "std        1.880023e-01     3.345879e+03  \n",
            "min        0.000000e+00    -8.600000e+01  \n",
            "25%        3.063967e-01     2.009000e+03  \n",
            "50%        4.154523e-01     4.281000e+03  \n",
            "75%        6.184690e-01     7.740000e+03  \n",
            "max        1.901504e+00     4.554100e+04  \n"
          ]
        }
      ]
    },
    {
      "cell_type": "code",
      "source": [
        "if 'digit_letter_ratio' in data.columns:\n",
        "    data['digit_letter_ratio'].fillna(data['digit_letter_ratio'].mean(), inplace=True)\n",
        "\n",
        "if 'domain_age_days' in data.columns:\n",
        "    data['domain_age_days'].fillna(data['domain_age_days'].mean(), inplace=True)\n",
        "\n",
        "# Check for missing values\n",
        "print(data.isnull().sum())\n"
      ],
      "metadata": {
        "colab": {
          "base_uri": "https://localhost:8080/"
        },
        "id": "bm5LgNMf9871",
        "outputId": "21e6bcf7-2ddf-408a-b4a9-b8b2882219cf"
      },
      "execution_count": 15,
      "outputs": [
        {
          "output_type": "stream",
          "name": "stdout",
          "text": [
            "label                 0\n",
            "url_length            0\n",
            "starts_with_ip        0\n",
            "url_entropy           0\n",
            "has_punycode          0\n",
            "digit_letter_ratio    0\n",
            "dot_count             0\n",
            "at_count              0\n",
            "dash_count            0\n",
            "tld_count             0\n",
            "domain_has_digits     0\n",
            "subdomain_count       0\n",
            "nan_char_entropy      0\n",
            "has_internal_links    0\n",
            "domain_age_days       0\n",
            "dtype: int64\n"
          ]
        }
      ]
    },
    {
      "cell_type": "code",
      "source": [
        "from sklearn.model_selection import train_test_split\n",
        "from sklearn.ensemble import RandomForestClassifier\n",
        "from sklearn.metrics import classification_report\n",
        "\n",
        "X = data.drop('label', axis=1)\n",
        "y = data['label']\n",
        "\n",
        "X = pd.get_dummies(X)\n",
        "\n",
        "X_train, X_test, y_train, y_test = train_test_split(X, y, test_size=0.2, random_state=42)\n",
        "\n",
        "model = RandomForestClassifier()\n",
        "model.fit(X_train, y_train)\n",
        "\n",
        "y_pred = model.predict(X_test)\n",
        "\n",
        "\n",
        "print(classification_report(y_test, y_pred))\n"
      ],
      "metadata": {
        "colab": {
          "base_uri": "https://localhost:8080/"
        },
        "id": "6Q2Bs7OT-gUK",
        "outputId": "ccee014e-e930-4213-c622-3c6f2982f312"
      },
      "execution_count": 16,
      "outputs": [
        {
          "output_type": "stream",
          "name": "stdout",
          "text": [
            "              precision    recall  f1-score   support\n",
            "\n",
            "           0       1.00      1.00      1.00    249866\n",
            "           1       1.00      1.00      1.00    250134\n",
            "\n",
            "    accuracy                           1.00    500000\n",
            "   macro avg       1.00      1.00      1.00    500000\n",
            "weighted avg       1.00      1.00      1.00    500000\n",
            "\n"
          ]
        }
      ]
    },
    {
      "cell_type": "code",
      "source": [
        "import pandas as pd\n",
        "from sklearn.model_selection import train_test_split, cross_val_score\n",
        "from sklearn.ensemble import RandomForestClassifier\n",
        "from sklearn.metrics import classification_report,confusion_matrix\n",
        "\n",
        "# Preprocessing\n",
        "data.fillna({\n",
        "    'url': 'placeholder_url',\n",
        "    'digit_letter_ratio': 0,\n",
        "    'nan_char_entropy': 0,\n",
        "    'domain_age_days': 0\n",
        "}, inplace=True)\n",
        "\n",
        "# Define features and target variable\n",
        "X = data.drop(columns=['label', 'url', 'source', 'whois_data'])  # Exclude non-numeric columns\n",
        "y = data['label'].map({'legitimate': 0, 'phishing': 1})\n",
        "\n",
        "X = pd.get_dummies(X, drop_first=True)  # drop_first to avoid dummy variable trap\n",
        "\n",
        "# Split the data into training and testing sets\n",
        "X_train, X_test, y_train, y_test = train_test_split(X, y, test_size=0.2, random_state=42)\n",
        "\n",
        "# Initialize the model\n",
        "model = RandomForestClassifier()\n",
        "\n",
        "# Perform cross-validation\n",
        "cv_scores = cross_val_score(model, X_train, y_train, cv=5)  # 5-fold cross-validation\n",
        "\n",
        "print(f'Cross-Validation Scores: {cv_scores}')\n",
        "print(f'Mean CV Score: {cv_scores.mean()}')\n",
        "print(f'Standard Deviation of CV Scores: {cv_scores.std()}')\n",
        "\n",
        "model.fit(X_train, y_train)\n",
        "\n",
        "y_pred = model.predict(X_test)\n",
        "\n",
        "print(classification_report(y_test, y_pred))\n"
      ],
      "metadata": {
        "colab": {
          "base_uri": "https://localhost:8080/"
        },
        "id": "kIK9Su1DAybu",
        "outputId": "7ca9d453-56ff-40b3-a2c8-1af144f16b4c"
      },
      "execution_count": 21,
      "outputs": [
        {
          "output_type": "stream",
          "name": "stdout",
          "text": [
            "Cross-Validation Scores: [1.        0.999995  0.999995  0.999995  0.9999975]\n",
            "Mean CV Score: 0.9999965\n",
            "Standard Deviation of CV Scores: 2.0000000000131022e-06\n",
            "              precision    recall  f1-score   support\n",
            "\n",
            "           0       1.00      1.00      1.00    249866\n",
            "           1       1.00      1.00      1.00    250134\n",
            "\n",
            "    accuracy                           1.00    500000\n",
            "   macro avg       1.00      1.00      1.00    500000\n",
            "weighted avg       1.00      1.00      1.00    500000\n",
            "\n"
          ]
        }
      ]
    },
    {
      "cell_type": "code",
      "source": [
        "import matplotlib.pyplot as plt\n",
        "import seaborn as sns\n",
        "\n",
        "cm = confusion_matrix(y_test, y_pred)\n",
        "\n",
        "# Plot confusion matrix using seaborn\n",
        "plt.figure(figsize=(8, 6))\n",
        "sns.heatmap(cm, annot=True, fmt='d', cmap='Blues', xticklabels=['Legitimate', 'Phishing'], yticklabels=['Legitimate', 'Phishing'])\n",
        "plt.title('Confusion Matrix')\n",
        "plt.xlabel('Predicted Labels')\n",
        "plt.ylabel('True Labels')\n",
        "plt.show()"
      ],
      "metadata": {
        "colab": {
          "base_uri": "https://localhost:8080/",
          "height": 564
        },
        "id": "SARFK4jERSrY",
        "outputId": "860abb03-5f4e-4088-934a-05130e81173d"
      },
      "execution_count": 24,
      "outputs": [
        {
          "output_type": "display_data",
          "data": {
            "text/plain": [
              "<Figure size 800x600 with 2 Axes>"
            ],
            "image/png": "[encoded data removed]"
          },
          "metadata": {}
        }
      ]
    }
  ]
}